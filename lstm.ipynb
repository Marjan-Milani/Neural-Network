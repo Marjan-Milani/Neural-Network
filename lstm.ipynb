{
 "cells": [
  {
   "cell_type": "code",
   "execution_count": 8,
   "metadata": {},
   "outputs": [],
   "source": [
    "import numpy as np\n",
    "import matplotlib.pyplot as plt\n",
    "import pandas as pd\n",
    "from keras.models import Sequential\n",
    "from keras.layers import Dense\n",
    "from keras.layers import LSTM\n",
    "from keras.layers import Dropout\n",
    "import tensorflow as tf\n",
    "import random"
   ]
  },
  {
   "cell_type": "code",
   "execution_count": null,
   "metadata": {},
   "outputs": [],
   "source": []
  },
  {
   "cell_type": "code",
   "execution_count": null,
   "metadata": {},
   "outputs": [],
   "source": []
  },
  {
   "cell_type": "code",
   "execution_count": 9,
   "metadata": {},
   "outputs": [],
   "source": [
    "number_of_train_data = 100;\n",
    "\n",
    "for k in range(1,number_of_train_data):\n",
    "    r = np.random.rand()\n",
    "    if r>0.5:\n",
    "        sample_feature= np.sin(np.random.rand(1,20))        \n",
    "        sample_feature = np.cos(np.random.rand(1,20))\n",
    "        X_train = sample_feature\n",
    "        Y_train=1\n",
    "    else:\n",
    "        sample_feature = np.cos(np.random.rand(1,20))      \n",
    "        sample_feature = np.sin(np.random.rand(1,20))\n",
    "        X_train = sample_feature;\n",
    "        Y_train = 2\n",
    "#         print(sample_feature)"
   ]
  },
  {
   "cell_type": "code",
   "execution_count": 10,
   "metadata": {},
   "outputs": [
    {
     "name": "stdout",
     "output_type": "stream",
     "text": [
      "0    2\n",
      "dtype: int64\n"
     ]
    }
   ],
   "source": [
    "Y_train=pd.Series(Y_train)\n",
    "print(Y_train)"
   ]
  },
  {
   "cell_type": "code",
   "execution_count": 11,
   "metadata": {},
   "outputs": [],
   "source": [
    "number_of_validation_data = 100;\n",
    "\n",
    "for k in range(1,number_of_validation_data):\n",
    "    r = np.random.rand()\n",
    "    if r>0.5:\n",
    "        sample_feature = np.sin(np.random.rand(1,20))\n",
    "        sample_feature = np.cos(np.random.rand(1,20))\n",
    "        XValidation = sample_feature;\n",
    "        YValidation = 1\n",
    "    else:\n",
    "        sample_feature=np.cos(np.random.rand(1,20))\n",
    "        sample_feature=np.sin(np.random.rand(1,20))\n",
    "        XValidation=sample_feature\n",
    "        YValidation=2\n",
    "#         print(XValidation)"
   ]
  },
  {
   "cell_type": "code",
   "execution_count": 12,
   "metadata": {
    "scrolled": true
   },
   "outputs": [
    {
     "name": "stdout",
     "output_type": "stream",
     "text": [
      "0    2\n",
      "dtype: int64\n"
     ]
    }
   ],
   "source": [
    "YValidation=pd.Series(YValidation)\n",
    "print(YValidation)"
   ]
  },
  {
   "cell_type": "code",
   "execution_count": 13,
   "metadata": {},
   "outputs": [],
   "source": [
    "number_of_test_data = 100;\n",
    "for k in range(1,number_of_test_data):\n",
    "    r = np.random.rand();\n",
    "    if r>0.5:\n",
    "        sample_feature=np.sin(np.random.rand(1,20))\n",
    "        sample_feature=np.cos(np.random.rand(1,20))\n",
    "        XTest = sample_feature\n",
    "        YTest = 1\n",
    "    else:\n",
    "        sample_feature=np.cos(np.random.rand(1,20))\n",
    "        sample_feature=np.sin(np.random.rand(1,20))\n",
    "        XTest = sample_feature\n",
    "        YTest = 2\n",
    "# print(XTest)"
   ]
  },
  {
   "cell_type": "code",
   "execution_count": 14,
   "metadata": {},
   "outputs": [
    {
     "name": "stdout",
     "output_type": "stream",
     "text": [
      "0    2\n",
      "dtype: int64\n"
     ]
    }
   ],
   "source": [
    "YTest=pd.Series(YTest)\n",
    "print(YTest)"
   ]
  },
  {
   "cell_type": "code",
   "execution_count": 27,
   "metadata": {},
   "outputs": [],
   "source": [
    "inputSize=Sequential()\n",
    "inputSize = X_train.shape\n",
    "numHiddenUnits = 100\n",
    "numClasses = 2"
   ]
  },
  {
   "cell_type": "code",
   "execution_count": 30,
   "metadata": {},
   "outputs": [
    {
     "ename": "AttributeError",
     "evalue": "'tuple' object has no attribute 'fit'",
     "output_type": "error",
     "traceback": [
      "\u001b[1;31m---------------------------------------------------------------------------\u001b[0m",
      "\u001b[1;31mAttributeError\u001b[0m                            Traceback (most recent call last)",
      "\u001b[1;32m<ipython-input-30-1045c870441b>\u001b[0m in \u001b[0;36m<module>\u001b[1;34m\u001b[0m\n\u001b[0;32m      1\u001b[0m \u001b[1;31m# inputSize.add(LSTM(units = 100, return_sequences = True, input_shape = (X_train.shape[1], 1)))\u001b[0m\u001b[1;33m\u001b[0m\u001b[1;33m\u001b[0m\u001b[1;33m\u001b[0m\u001b[0m\n\u001b[1;32m----> 2\u001b[1;33m \u001b[0minputSize\u001b[0m\u001b[1;33m.\u001b[0m\u001b[0mfit\u001b[0m\u001b[1;33m(\u001b[0m\u001b[0mX_train\u001b[0m\u001b[1;33m,\u001b[0m \u001b[0my_train\u001b[0m\u001b[1;33m,\u001b[0m \u001b[0mepochs\u001b[0m \u001b[1;33m=\u001b[0m \u001b[1;36m100\u001b[0m\u001b[1;33m,\u001b[0m \u001b[0mbatch_size\u001b[0m \u001b[1;33m=\u001b[0m \u001b[1;36m27\u001b[0m\u001b[1;33m)\u001b[0m\u001b[1;33m\u001b[0m\u001b[1;33m\u001b[0m\u001b[0m\n\u001b[0m",
      "\u001b[1;31mAttributeError\u001b[0m: 'tuple' object has no attribute 'fit'"
     ]
    }
   ],
   "source": [
    "inputSize.add(LSTM(units = 100, return_sequences = True, input_shape = (X_train.shape[1], 1)))\n",
    "inputSize.fit(X_train, y_train, epochs = 100, batch_size = 27)"
   ]
  },
  {
   "cell_type": "code",
   "execution_count": null,
   "metadata": {},
   "outputs": [],
   "source": []
  }
 ],
 "metadata": {
  "kernelspec": {
   "display_name": "Python 3",
   "language": "python",
   "name": "python3"
  },
  "language_info": {
   "codemirror_mode": {
    "name": "ipython",
    "version": 3
   },
   "file_extension": ".py",
   "mimetype": "text/x-python",
   "name": "python",
   "nbconvert_exporter": "python",
   "pygments_lexer": "ipython3",
   "version": "3.9.5"
  }
 },
 "nbformat": 4,
 "nbformat_minor": 2
}
