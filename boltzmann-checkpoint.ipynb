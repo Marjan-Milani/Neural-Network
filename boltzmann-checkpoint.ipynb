{
 "cells": [
  {
   "cell_type": "markdown",
   "metadata": {},
   "source": [
    "<div style=\"font-family:Tahoma; font-size:16px; direction:rtl; color:blue;\">\n",
    "مرجان چوداری میلانی\n",
    "    <br>\n",
    "ماشین بولتزمن\n",
    "    </div>"
   ]
  },
  {
   "cell_type": "markdown",
   "metadata": {},
   "source": [
    "<div style=\"font-family:Tahoma; font-size:16px; direction:rtl; color:blue;\">\n",
    "معرفی کتابخانه ها\n",
    "    </div>"
   ]
  },
  {
   "cell_type": "code",
   "execution_count": null,
   "metadata": {},
   "outputs": [],
   "source": [
    "import tensorflow as tf\n",
    "import os \n",
    "import numpy as np\n",
    "from tensorflow.keras.datasets import mnist\n",
    "from sklearn.datasets import load_digits\n",
    "from tqdm import tqdm\n",
    "import matplotlib.pyplot as plt\n",
    "\n",
    "from rbm import RBM, sample"
   ]
  },
  {
   "cell_type": "code",
   "execution_count": null,
   "metadata": {},
   "outputs": [],
   "source": []
  },
  {
   "cell_type": "code",
   "execution_count": null,
   "metadata": {},
   "outputs": [],
   "source": [
    "# دیتاست mnist\n",
    "mnist = input_data.read_data_sets('MNIST_data', one_hot = True)\n",
    "\n",
    "rbm_model = RBM(n_visible = 784, n_hidden = 144, lr = tf.constant(0.05, tf.float32), epochs = 10000, mode='bernoulli')\n",
    "\n",
    "# محل نگهدارنده لایه قابل مشاهده نمودار محاسبه RBM.\n",
    "v = tf.placeholder(tf.float32, shape=[None, rbm_model.n_visible], name=\"visible_layer\")"
   ]
  },
  {
   "cell_type": "code",
   "execution_count": null,
   "metadata": {},
   "outputs": [],
   "source": [
    "# Update \n",
    "k=1\n",
    "train_op = rbm_model.update(v, K=k)"
   ]
  },
  {
   "cell_type": "code",
   "execution_count": null,
   "metadata": {},
   "outputs": [],
   "source": [
    "energy = rbm_model.free_energy(v=v)\n",
    "tf.summary.scalar('free_energy', tf.reduce_mean(energy))\n",
    "\n",
    "# ادغام\n",
    "summary = tf.summary.merge_all()\n",
    "\n",
    "#ذخیره \n",
    "saver = tf.train.Saver({\"weights\":rbm_model.W, \"visible_bias\":rbm_model.vb, \"hidden_bias\":rbm_model.hb})"
   ]
  },
  {
   "cell_type": "code",
   "execution_count": null,
   "metadata": {},
   "outputs": [],
   "source": [
    "sess = tf.InteractiveSession()\n",
    "sess.run(tf.global_variables_initializer())\n",
    "test_writer = tf.summary.FileWriter(os.getcwd()+'/RBM_logs/MNIST_Bernoulli',sess.graph)"
   ]
  }
 ],
 "metadata": {
  "kernelspec": {
   "display_name": "Python 3",
   "language": "python",
   "name": "python3"
  },
  "language_info": {
   "codemirror_mode": {
    "name": "ipython",
    "version": 3
   },
   "file_extension": ".py",
   "mimetype": "text/x-python",
   "name": "python",
   "nbconvert_exporter": "python",
   "pygments_lexer": "ipython3",
   "version": "3.9.5"
  }
 },
 "nbformat": 4,
 "nbformat_minor": 2
}
